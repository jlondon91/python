{
  "nbformat": 4,
  "nbformat_minor": 0,
  "metadata": {
    "kernelspec": {
      "display_name": "Python 3",
      "language": "python",
      "name": "python3"
    },
    "language_info": {
      "codemirror_mode": {
        "name": "ipython",
        "version": 3
      },
      "file_extension": ".py",
      "mimetype": "text/x-python",
      "name": "python",
      "nbconvert_exporter": "python",
      "pygments_lexer": "ipython3",
      "version": "3.7.3"
    },
    "colab": {
      "name": "lab_3.875.ipynb",
      "provenance": [],
      "toc_visible": true,
      "include_colab_link": true
    }
  },
  "cells": [
    {
      "cell_type": "markdown",
      "metadata": {
        "id": "view-in-github",
        "colab_type": "text"
      },
      "source": [
        "<a href=\"https://colab.research.google.com/github/jlondon91/python/blob/master/lab_3_875.ipynb\" target=\"_parent\"><img src=\"https://colab.research.google.com/assets/colab-badge.svg\" alt=\"Open In Colab\"/></a>"
      ]
    },
    {
      "cell_type": "markdown",
      "metadata": {
        "id": "S88nOTuSvUPG",
        "colab_type": "text"
      },
      "source": [
        "## Detour: Loops in BASIC\n",
        "\n",
        "If you still have doubts about `for`, `while`, and `if`, then try this section for fun.\n",
        "\n",
        "A long time ago, the things called \"microcomputers\" came in many brands and sizes.  They were almost entirely incompatible with each other except in one way.  When you turned them on without any commercial program to run (generally a cartridge, or a cassette tape, or eventually a 5.25\" floppy disk), their built-in operating system was an interpreter for the BASIC programming language.\n",
        "\n",
        "![computers](39262.jpg)\n",
        "*Also a Mikey vacation picture: Bozeman, Montana.*\n",
        "\n",
        "BASIC was a programming language with just a couple dozen keywords, a rigid syntax, and primitive data types supported directly by the CPU.  This made it simple enough for its interpreter to run on computers with 16KB of memory.  So they all had one.\n",
        "\n",
        "It is important to understand that BASIC was never cool.  By the time it existed, C, FORTRAN, and COBOL had been around for a while, living on serious \"minicomputers\" that ran Unix.  Those were the machines that serious business people used.  BASIC was looked down upon for its whole existence, only good for hobbyists and screwing around.\n",
        "\n",
        "One form of that screwing around was the \"type-in program,\" published in a magazine as a program listing that you would literally type in line by line.  ([Here is an example.](https://archive.org/details/1981-12-compute-magazine/page/n3/mode/2up)  Check out ad for a BASIC interpreter card by a company called Microsoft with a heavy metal logo.)  We are going to recreate that experience for you right here.\n",
        "\n",
        "Go to your Linux terminal.  If it doesn't already have python and pip, install them with `sudo apt install python3 python-pip`.  Then run:\n",
        "\n"
      ]
    },
    {
      "cell_type": "code",
      "metadata": {
        "id": "clYaNxidvUPK",
        "colab_type": "code",
        "outputId": "455ba685-0050-4997-9302-6bc93102cd34",
        "colab": {
          "base_uri": "https://localhost:8080/",
          "height": 130
        }
      },
      "source": [
        "pip install pcbasic\n",
        "pcbasic"
      ],
      "execution_count": 0,
      "outputs": [
        {
          "output_type": "error",
          "ename": "SyntaxError",
          "evalue": "ignored",
          "traceback": [
            "\u001b[0;36m  File \u001b[0;32m\"<ipython-input-3-af8d0a77d639>\"\u001b[0;36m, line \u001b[0;32m1\u001b[0m\n\u001b[0;31m    pip install pcbasic\u001b[0m\n\u001b[0m              ^\u001b[0m\n\u001b[0;31mSyntaxError\u001b[0m\u001b[0;31m:\u001b[0m invalid syntax\n"
          ]
        }
      ]
    },
    {
      "cell_type": "markdown",
      "metadata": {
        "id": "28SgScAjvUPV",
        "colab_type": "text"
      },
      "source": [
        "You should see \"PC-BASIC 2.0.2\" and \"60300 Bytes free\".  This is an IBM PC BASIC simulator, written in python, running in the python interpreter, running in a simulated Linux virtual machine, running in Chrome OS, which is a web browser running in a hacked-up copy of Linux.\n",
        "\n",
        "![welcome to the desert of the real](desert.jpg)\n",
        "*Welcome to the desert of the real.*\n",
        "\n",
        "There is a point, I promise.  Python borrows a lot from BASIC.  Here is a complete BASIC program made out of Python words you already know (except INPUT):"
      ]
    },
    {
      "cell_type": "code",
      "metadata": {
        "id": "VmI7sCJyvUPb",
        "colab_type": "code",
        "outputId": "11885dac-8ace-45eb-831c-3f6b4c4d83eb",
        "colab": {
          "base_uri": "https://localhost:8080/",
          "height": 130
        }
      },
      "source": [
        "10 PRINT \"What year were you born?\"\n",
        "20 INPUT Y\n",
        "30 AGE = 2020 - Y\n",
        "40 PRINT \"You are about\"; AGE; \"years old.\"\n",
        "50 IF AGE > 60 THEN PRINT \"lol ok boomer.\""
      ],
      "execution_count": 0,
      "outputs": [
        {
          "output_type": "error",
          "ename": "SyntaxError",
          "evalue": "ignored",
          "traceback": [
            "\u001b[0;36m  File \u001b[0;32m\"<ipython-input-4-d5197e6d5b2c>\"\u001b[0;36m, line \u001b[0;32m1\u001b[0m\n\u001b[0;31m    10 PRINT \"What year were you born?\"\u001b[0m\n\u001b[0m           ^\u001b[0m\n\u001b[0;31mSyntaxError\u001b[0m\u001b[0;31m:\u001b[0m invalid syntax\n"
          ]
        }
      ]
    },
    {
      "cell_type": "markdown",
      "metadata": {
        "id": "RKtC9ZhhvUPf",
        "colab_type": "text"
      },
      "source": [
        "Type this in exactly as you see (the line numbers matter), and then type `run` to run it.\n",
        "\n",
        "BASIC has `FOR` and `WHILE`, which work just the same as Python.  But!  It also has `GOTO`, which Python does not.  `GOTO` is hopelessly out of fashion, ever since it was declared \"harmful\" in a [famous letter](https://homepages.cwi.nl/~storm/teaching/reader/Dijkstra68.pdf) in 1968.  (Remember that I said BASIC was never cool, even when it was new.)  And yet, various forms of `GOTO` are the only control flow commands that are actually provided by hardware.  Every loop in every programming language is really just a mess of `IF` and `GOTO` underneath.  That is what I want to show you.\n",
        "\n",
        "First try adding one line to your existing BASIC program.  Type `list` and you should see the lines 10 to 50 that you already entered, followed by `Ok` (which is the BASIC prompt).  Type the following to add one more line."
      ]
    },
    {
      "cell_type": "code",
      "metadata": {
        "id": "s0JB00W9vUPg",
        "colab_type": "code",
        "colab": {}
      },
      "source": [
        "60 GOTO 20"
      ],
      "execution_count": 0,
      "outputs": []
    },
    {
      "cell_type": "markdown",
      "metadata": {
        "id": "OHqCNXA1vUPl",
        "colab_type": "text"
      },
      "source": [
        "Now `run` it again, and you will find you are in an infinite loop.  Whenever the program gets to line 60, believe it or not, it GOes TO line 20 to continue execution.  (This is what the line numbers are for.)  Press Ctrl-C to \"break\" out of the loop.\n",
        "\n",
        "Here is another program, which is entirely typical of one that a kid would type in from a magazine.  Note that `<>` is the BASIC spelling of the `!=` operator, and `NEW` means to erase the program already in memory, and you know what `RUN` does.  You will likely be able to see exactly what this program does, but try it out."
      ]
    },
    {
      "cell_type": "code",
      "metadata": {
        "id": "S3LdFrtIvUPr",
        "colab_type": "code",
        "colab": {}
      },
      "source": [
        "NEW\n",
        "10 FAV = 47\n",
        "20 INPUT \"Guess my favorite number: \", G\n",
        "30 IF G > FAV THEN PRINT \"Too high!\"\n",
        "40 IF G < FAV THEN PRINT \"Too low!\"\n",
        "50 IF G <> FAV THEN GOTO 20\n",
        "60 PRINT \"Hooray, you win!\"\n",
        "RUN"
      ],
      "execution_count": 0,
      "outputs": []
    },
    {
      "cell_type": "markdown",
      "metadata": {
        "id": "XVZw_Q_nvUPv",
        "colab_type": "text"
      },
      "source": [
        "At line 50, the program jumps back to line 20 if the guess was not correct.  You might say that it repeats the block from 20 to 50 *while* the guess is not correct.  You might in fact say it exactly like this:"
      ]
    },
    {
      "cell_type": "code",
      "metadata": {
        "id": "hJx6_-W3vUPv",
        "colab_type": "code",
        "colab": {}
      },
      "source": [
        "fav = 47\n",
        "g = 0\n",
        "while g != fav:\n",
        "    g = int(input(\"Guess my favorite number: \")) # lol input is a python word too, just nobody told you\n",
        "    if g > fav: print(\"Too high!\")\n",
        "    if g < fav: print(\"Too low!\")\n",
        "print(\"Hooray, you win!\")"
      ],
      "execution_count": 0,
      "outputs": []
    },
    {
      "cell_type": "markdown",
      "metadata": {
        "id": "Lz-vzi_tvUP0",
        "colab_type": "text"
      },
      "source": [
        "Congratulations, you have invented the `while` loop.\n",
        "\n",
        "These are not merely a couple of features from different languages that happen to create the same result.  It is more true to say that the BASIC version with IF..GOTO is showing you the underlying implementation, which Python hides from you.  When in doubt, you can re-imagine any Python while loop as \"at the end of the block, IF (condition) THEN GOTO the beginning\", and that is exactly what it does.\n",
        "\n",
        "Unfortunately the `for` loop is a little less clean of a translation, because BASIC does not have a list type.  You can probably read this next 5-line program and see what it does, but why not type it in anyway and see if you can get it to work?  It builds character."
      ]
    },
    {
      "cell_type": "code",
      "metadata": {
        "id": "HBcSO7r9vUP0",
        "colab_type": "code",
        "colab": {}
      },
      "source": [
        "10 I = 0\n",
        "20 PRINT I; \"squared is\"; I*I\n",
        "30 I = I + 1\n",
        "40 IF I < 5 THEN GOTO 20\n",
        "50 PRINT \"all done!\""
      ],
      "execution_count": 0,
      "outputs": []
    },
    {
      "cell_type": "markdown",
      "metadata": {
        "id": "OTiN6pUuvUP6",
        "colab_type": "text"
      },
      "source": [
        "There's a loop here among the lines 20 to 40.  (A fun thing about BASIC is you get no warning when a loop begins, because GOTO can land at any random place!)  We set I=0 for the first time through, then we add 1 to I and repeat until I gets big enough that we fall through line 40 and get to \"all done\".\n",
        "\n",
        "What happens if you change the `GOTO 20` to `GOTO 10`?  Oops.\n",
        "\n",
        "The idea that you want to run a loop a bunch of times, while counting (or enumerating) each pass, is needed so much that even BASIC has a shorthand for it.  The above would be considered weird and bad BASIC style.  Here is the idiomatic version:"
      ]
    },
    {
      "cell_type": "code",
      "metadata": {
        "id": "viBDUMHLvUP8",
        "colab_type": "code",
        "colab": {}
      },
      "source": [
        "10 FOR I = 0 TO 4\n",
        "20 PRINT I; \"squared is\"; I*I\n",
        "30 NEXT\n",
        "40 PRINT \"all done!\""
      ],
      "execution_count": 0,
      "outputs": []
    },
    {
      "cell_type": "markdown",
      "metadata": {
        "id": "RwAvi5xNvUP_",
        "colab_type": "text"
      },
      "source": [
        "This is identical to the previous BASIC program, and also functionally identical to the following Python program:"
      ]
    },
    {
      "cell_type": "code",
      "metadata": {
        "id": "x3k3uT3SvUP_",
        "colab_type": "code",
        "colab": {}
      },
      "source": [
        "for i in (0,1,2,3,4):\n",
        "    print(i, \"squared is\", i*i)\n",
        "print(\"all done!\")"
      ],
      "execution_count": 0,
      "outputs": []
    },
    {
      "cell_type": "markdown",
      "metadata": {
        "id": "kXKvrQFRvUQD",
        "colab_type": "text"
      },
      "source": [
        "I am cheating slightly and saying \"functionally identical\" because the machine implementations are very different.  This is because Python defines its `for` statement in terms of its list type, rather than bare integer counting, which is the only thing BASIC can do.\n",
        "\n",
        "And still, after Python \"simplified\" the for loop, the need for a counting variable is still so common that Python went back and added a special thing for that, which is called `enumerate`.  You have run into `enumerate` before, but it was weird and confusing, so we won't going into it again right now.\n",
        "\n",
        "You may notice that the definition of \"simpler\" has gotten tricky.  You might find the BASIC loop \"simpler\" because variables can only be dumb numbers, and you can see with your eyes exactly where we add and compare them.  But the Python `for` loop is simpler to understand (and use) if you are already thinking in abstractions where variables can be lists.  Meanwhile, the computer has its own opinion, which is that Python is far more complicated, and a lot more work.  So we see, the designer(s) of Python decided that making you learn list abstractions immediately, and then relying on it to define loops (which hides a huge amount of complexity in the interpreter), was a good tradeoff.  But there is nothing obvious or automatic about these tradeoffs.  They are, basically, a matter of taste.\n",
        "\n",
        "The set of ideas that are \"easy\" or \"hard\" to understand depends on your language, and therefore the set of abstractions that you have loaded in your brain.  This goes straight to the core of computer science.  After a quick climb away from primordial machine code, high-level computer languages haven't evolved in any particular direction, because there isn't any \"right\" answer that makes everything easy.  18 years after Java declared pointers obsolete, Go brought them back.  In all of these properties, computer languages are suspiciously like human languages.\n",
        "\n",
        "Ok, we are done with BASIC.  To get back from 1985, type `system` at your BASIC prompt.  I'm sorry you will find that back here in 2020 we live on the \"Biff\" timeline now.  What the hell did you do back there?\n",
        "\n",
        "If you want to stay in 1985 longer, go to the [pc-basic page](https://robhagemans.github.io/pcbasic/doc/1.2/#guide-var) where you will find that the number of simulated features, and programs you can download and run without typing them in, is bonkers.  (got your IBM PC-jr cassette tapes that you saved programs on?  You can load them into pc-basic from a wav file.)\n",
        "\n",
        "## Back to Python\n",
        "\n",
        "For a Python exercise, you get to do the project that I just did myself, for the planning cycle tomorrow.  It doesn't get any more real than this!\n",
        "\n",
        "I have given you a CSV file that was exported from an Asana search.  It has a large number of columns.  The columns represent \"custom fields\" that somebody created somewhere in Asana.  A large number of the columns are empty, meaning that across the 707 tasks in this file, the field was set zero times.  The first thing I want is to get the names of all those empty columns, which apparently, no one is actually using.\n",
        "\n",
        "The next cell has the skeleton of a program.\n",
        "\n",
        "The function named `get_data` is already complete.  You can treat it as a magic incantation that makes the CSV file appear in your program as a two-dimensional list.  (You can also see how this is done, and that it is not hard.)\n",
        "\n",
        "I want the function `column_is_empty` to accept two arguments, which are the CSV file in giant-2d-list form, and a column number (integer).  It should return True if the column is empty, which means that for every data row in the CSV, the value in the given column is None or empty string.  You have to implement this function.\n",
        "\n",
        "The output of your program should be a list of the names of the empty columns.  The `for` loop in the skeleton is a hint of how you could start, but you don't have to use it.  Use whatever functions, loops, or classes you want.\n",
        "\n",
        "\n",
        "### How to run it\n",
        "\n",
        "If you are running Jupyter Notebook locally, on a directory that has all the correct files checked out from github, the whole thing works right here with shift-Enter like you are used to.  If you are running Jupyter Notebook on the Coursera server, I don't know how to get everything in the right place, so good luck.\n",
        "\n",
        "If you want to rock extra hard, or can't get the other ways to work, you can drop out to the terminal and do this directly.  You can get the lab files with `git clone https://github.com/alloy-commons/learnding`.  (If you have never done this, it will require some setup that is not explained here.)  Then put your python program in a file named yourname.py, and run it, with `python3 yourname.py`."
      ]
    },
    {
      "cell_type": "code",
      "metadata": {
        "id": "Tsgi4n8pvUQD",
        "colab_type": "code",
        "colab": {
          "base_uri": "https://localhost:8080/",
          "height": 578
        },
        "outputId": "7117dddb-e42e-4c4f-ffeb-f86cdb184bd4"
      },
      "source": [
        "import csv\n",
        "\n",
        "def get_data():\n",
        "    # This function is complete; you don't need to modify it\n",
        "    return list(csv.reader(open('asana_search.csv')))\n",
        "\n",
        "def column_is_empty(rows, col_num):\n",
        "    for i in range(len(rows)):\n",
        "        if rows[i][col_num] == '':\n",
        "          pass\n",
        "        else:\n",
        "          return False\n",
        "    return True\n",
        "\n",
        "rows = get_data()\n",
        "\n",
        "header_row = rows[0]\n",
        "data_rows = rows[1:]\n",
        "\n",
        "for col_num in range(len(header_row)):\n",
        "    if column_is_empty(data_rows, col_num) == True:\n",
        "      print(header_row[col_num], + int(col_num))\n",
        "    else:\n",
        "      pass\n",
        "    # TODO(you): For each column, determine if it is empty, then print its name if so.\n"
      ],
      "execution_count": 5,
      "outputs": [
        {
          "output_type": "stream",
          "text": [
            "Size 15\n",
            "T.Priority 19\n",
            "P.Priority 20\n",
            "Uncertainty 21\n",
            "Stage 23\n",
            "Minutes 24\n",
            "Estimated timeline 26\n",
            "Vendor 28\n",
            "Estimated value 29\n",
            "Product stage 36\n",
            "Name - Primary Contact  43\n",
            "Org Website 44\n",
            "Legal Entity Address 47\n",
            "Verify Contract 49\n",
            "Source Contract 50\n",
            "Partner 51\n",
            "Phone - Primary Contact 52\n",
            "Title - Primary Contact 53\n",
            "Email - Primary Contact  54\n",
            "Job Family 59\n",
            "National Coverage 68\n",
            "Wave 1, 2, 3 Coverage 69\n",
            "Alloy Update Cadence 70\n",
            "Partner Dependency  72\n",
            "Blocked Reason 73\n",
            "Current Projected Acquisition Cadence Tracker 75\n",
            "Subscription Status 76\n",
            "Statewide File Update Cadence 77\n",
            "File Request Submission Method 78\n",
            "File Receive Method 79\n",
            "Payment Method 80\n",
            "PAC Request State 81\n",
            "FEC Estimate of Voting Age Population 82\n"
          ],
          "name": "stdout"
        }
      ]
    },
    {
      "cell_type": "markdown",
      "metadata": {
        "id": "2WqTaAlfCozy",
        "colab_type": "text"
      },
      "source": [
        "# New Section"
      ]
    },
    {
      "cell_type": "markdown",
      "metadata": {
        "id": "J1eN8vo1vUQG",
        "colab_type": "text"
      },
      "source": [
        "All done?  No big deal?  (This is a joke.  This will probably not be easy for anyone.)\n",
        "\n",
        "The other thing we want to get out of this CSV file is trickier.  You will find a column in there somewhere named \"Assignee Email.\"  What I want now is a table of the different values found in \"Assignee Email\", and the count of the tasks (rows) that had each one.  So if the input CSV data looked like this:\n",
        "\n",
        "| id | Assignee Email | some junk | some more junk |\n",
        "|-|-|-|-|\n",
        "| 11 | mikey@alloy.us | yabba | dabba doo|\n",
        "| 28873244 | mikey@alloy.us | null | null |\n",
        "| 11231 | alex@alloy.us | High | Low |\n",
        "| 109918910 | mikey@alloy.us | XS | Squirrel |\n",
        "| 992a * 3pi | holly@alloy.us | Squirrel | Nut Zipper |\n",
        "\n",
        "Then your program should output this:\n",
        "\n",
        "```\n",
        "mikey@alloy.us   3\n",
        "alex@alloy.us    1\n",
        "holly@alloy.us   1\n",
        "```\n",
        "\n",
        "Extra style points will be awarded if your list is formatted nicely like the example, and if it is sorted in any meaningful order.  Notice that the input was not in any order.\n",
        "\n",
        "\n",
        "The next cell contains the beginning of another program.  If you're running this in Jupyter Notebook in order, then you can assume header_row and data_rows are still defined from before.  (Unless you modified them in your last program!)\n",
        "\n",
        "As before, the program skeleton is a hint.  You can delete all of it if you want.  There are many ways to do this, so if the skeleton makes no sense to you and you have a different plan, try it.\n",
        "\n",
        "Good luck!"
      ]
    },
    {
      "cell_type": "code",
      "metadata": {
        "id": "Djohw4hZvUQH",
        "colab_type": "code",
        "colab": {
          "base_uri": "https://localhost:8080/",
          "height": 71
        },
        "outputId": "878d0e93-fb31-4b80-dcfd-367660bb33d5"
      },
      "source": [
        "# header_row and data_rows are reused from the last cell.\n",
        "\n",
        "# You might find something like this useful.\n",
        "task_counts = {'mikey@alloy.us': 0}\n",
        "\n",
        "assignee_column = 0\n",
        "\n",
        "for i in range(len(header_row)):\n",
        "    if header_row[i] == \"Assignee Email\":\n",
        "      assignee_column = i\n",
        "    else:\n",
        "      pass\n",
        "print(assignee_column)  \n",
        "\n",
        "for j in range(len(data_rows)):\n",
        "    found_key = data_rows[j][assignee_column]\n",
        "    if found_key == '' or found_key == None:\n",
        "      pass\n",
        "    elif found_key in task_counts.keys():\n",
        "      task_counts[found_key] = task_counts[found_key] + 1\n",
        "    else:\n",
        "      task_counts[found_key] = 1\n",
        "\n",
        "\n",
        "    \n",
        "    # Loop over all the rows in data_rows and do something to task_counts.\n",
        "    # TODO(you)\n",
        "\n",
        "\n",
        "print(task_counts.keys(), task_counts.values())\n",
        "\n",
        "\n"
      ],
      "execution_count": 42,
      "outputs": [
        {
          "output_type": "stream",
          "text": [
            "7\n",
            "dict_keys(['mikey@alloy.us', 'luis@alloy.us', 'kendall@alloy.us', 'jason@alloy.us', 'jenny@alloy.us', 'jake@alloy.us', 'emma@alloy.us', 'allison@alloy.us', 'alynn@alloy.us', 'brianna@alloy.us', 'annie@alloy.us', 'raph@alloy.us', 'nick@alloy.us', 'stephen@alloy.us', 'teddy@alloy.us', 'billy@alloy.us', 'susanna@alloy.us', 'sarah@alloy.us', 'courtney@alloy.us', 'xena@alloy.us', 'bguggenheimer@alloy.us', 'megan@alloy.us', 'nicholas@alloy.us', 'linda@alloy.us', 'alex@alloy.us', 'clara@alloy.us', 'natalie@alloy.us', 'holly@alloy.us', 'chris@alloy.us', 'richard.barney@alloy.us', 'taylor@alloy.us', 'umar@alloy.us', 'erin@alloy.us', 'hvd@alloy.us', 'nadia@alloy.us']) dict_values([6, 18, 35, 20, 32, 5, 25, 16, 16, 17, 9, 12, 5, 14, 6, 22, 15, 9, 2, 6, 4, 2, 2, 10, 77, 1, 6, 3, 11, 3, 5, 2, 2, 2, 1])\n"
          ],
          "name": "stdout"
        }
      ]
    },
    {
      "cell_type": "code",
      "metadata": {
        "id": "GIsLYOjw13zW",
        "colab_type": "code",
        "colab": {}
      },
      "source": [
        ""
      ],
      "execution_count": 0,
      "outputs": []
    }
  ]
}